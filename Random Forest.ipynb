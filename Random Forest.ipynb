{
 "cells": [
  {
   "cell_type": "markdown",
   "id": "0423b250-303c-4c6d-9718-76c481f71f4b",
   "metadata": {},
   "source": [
    "### Working of Random Forest Algorithm\n",
    "##### Create Many Decision Trees: \n",
    "The algorithm makes many decision trees each using a random part of the data. So every tree is a bit different.\n",
    "##### Pick Random Features: \n",
    "When building each tree it doesn’t look at all the features (columns) at once. It picks a few at random to decide how to split the data. This helps the trees stay different from each other.\n",
    "##### Each Tree Makes a Prediction:\n",
    "Every tree gives its own answer or prediction based on what it learned from its part of the data.\n",
    "##### Combine the Predictions:\n",
    "For classification we choose a category as the final answer is the one that most trees agree on i.e majority voting and for regression we predict a number as the final answer is the average of all the trees predictions.\n",
    "##### Why It Works Well:\n",
    "Using random data and features for each tree helps avoid overfitting and makes the overall prediction more accurate and trustworthy."
   ]
  },
  {
   "cell_type": "code",
   "execution_count": null,
   "id": "0144b636-1c86-46ab-a836-65d037440fee",
   "metadata": {},
   "outputs": [],
   "source": []
  },
  {
   "cell_type": "code",
   "execution_count": 1,
   "id": "ee0b53f7-102f-4dbb-a0b2-c8fe340749db",
   "metadata": {},
   "outputs": [],
   "source": [
    "import pandas as pd\n",
    "from sklearn.model_selection import train_test_split\n",
    "from sklearn.ensemble import RandomForestClassifier\n",
    "from sklearn.metrics import accuracy_score, classification_report\n",
    "import warnings"
   ]
  },
  {
   "cell_type": "markdown",
   "id": "3deee440-7356-47fd-82fc-d866a17684d5",
   "metadata": {},
   "source": [
    "#### NOTE:\n",
    "There is no 'titanic.csv' data downloaded yet, so it is solitude example"
   ]
  },
  {
   "cell_type": "code",
   "execution_count": null,
   "id": "cc487131-6885-44a3-b7b1-725c675872e9",
   "metadata": {},
   "outputs": [],
   "source": [
    "warnings.filterwarnings('ignore')\n",
    "\n",
    "titanic_data = pd.read_csv('titanic.csv')\n",
    "\n",
    "titanic_data = titanic_data.dropna(subset=['Survived'])\n",
    "\n",
    "X = titanic_data[['Pclass', 'Sex', 'Age', 'SibSp', 'Parch', 'Fare']]\n",
    "y = titanic_data['Survived']\n",
    "\n",
    "X.loc[:, 'Sex'] = X['Sex'].map({'female': 0, 'male': 1})\n",
    "\n",
    "X.loc[:, 'Age'].fillna(X['Age'].median(), inplace=True)\n",
    "\n",
    "X_train, X_test, y_train, y_test = train_test_split(X, y, test_size=0.2, random_state=42)\n",
    "\n",
    "rf_classifier = RandomForestClassifier(n_estimators=100, random_state=42)\n",
    "\n",
    "rf_classifier.fit(X_train, y_train)\n",
    "\n",
    "y_pred = rf_classifier.predict(X_test)\n",
    "\n",
    "accuracy = accuracy_score(y_test, y_pred)\n",
    "classification_rep = classification_report(y_test, y_pred)\n",
    "\n",
    "print(f\"Accuracy: {accuracy:.2f}\")\n",
    "print(\"\\nClassification Report:\\n\", classification_rep)\n",
    "\n",
    "sample = X_test.iloc[0:1]\n",
    "prediction = rf_classifier.predict(sample)\n",
    "\n",
    "sample_dict = sample.iloc[0].to_dict()\n",
    "print(f\"\\nSample Passenger: {sample_dict}\")\n",
    "print(f\"Predicted Survival: {'Survived' if prediction[0] == 1 else 'Did Not Survive'}\")"
   ]
  },
  {
   "cell_type": "code",
   "execution_count": null,
   "id": "6fcca581-006d-48a8-b763-b9b3934727f4",
   "metadata": {},
   "outputs": [],
   "source": []
  }
 ],
 "metadata": {
  "kernelspec": {
   "display_name": "Python 3 (ipykernel)",
   "language": "python",
   "name": "python3"
  },
  "language_info": {
   "codemirror_mode": {
    "name": "ipython",
    "version": 3
   },
   "file_extension": ".py",
   "mimetype": "text/x-python",
   "name": "python",
   "nbconvert_exporter": "python",
   "pygments_lexer": "ipython3",
   "version": "3.12.7"
  }
 },
 "nbformat": 4,
 "nbformat_minor": 5
}
